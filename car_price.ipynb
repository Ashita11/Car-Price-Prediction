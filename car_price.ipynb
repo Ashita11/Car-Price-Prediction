{
 "cells": [
  {
   "cell_type": "code",
   "execution_count": 1,
   "metadata": {},
   "outputs": [],
   "source": [
    "import pandas as pd\n",
    "import numpy as np\n",
    "from sklearn.model_selection import train_test_split\n",
    "from sklearn.linear_model import LinearRegression\n",
    "import seaborn as sns\n",
    "import matplotlib.pyplot as plt\n",
    "from sklearn.impute import SimpleImputer\n",
    "from sklearn.compose import ColumnTransformer\n",
    "from sklearn.preprocessing import OneHotEncoder\n",
    "from sklearn.preprocessing import FunctionTransformer"
   ]
  },
  {
   "cell_type": "code",
   "execution_count": 2,
   "metadata": {},
   "outputs": [],
   "source": [
    "df=pd.read_csv('quikr_car.csv')"
   ]
  },
  {
   "cell_type": "code",
   "execution_count": 3,
   "metadata": {},
   "outputs": [],
   "source": [
    "for i in range(df.shape[0]):\n",
    "    if(~df['year'][i].isnumeric()):\n",
    "        df['year'][i]=df[df['year'].str.isnumeric()]['year'].sample().values[0]"
   ]
  },
  {
   "cell_type": "code",
   "execution_count": 4,
   "metadata": {},
   "outputs": [],
   "source": [
    "df['kms_driven']=df['kms_driven'].str.split(' ').str.get(0).str.replace(',','')\n",
    "df['Price'] = df['Price'].str.replace(',','')\n"
   ]
  },
  {
   "cell_type": "code",
   "execution_count": 5,
   "metadata": {},
   "outputs": [
    {
     "name": "stdout",
     "output_type": "stream",
     "text": [
      "404688.5344224037\n",
      "46010.55011933174\n"
     ]
    }
   ],
   "source": [
    "\n",
    "mean_p =df[df['Price']!='Ask For Price']['Price'].astype(int).mean()\n",
    "print(mean_p)\n",
    "\n",
    "mean_km = df[df['kms_driven']!='Petrol']['kms_driven'].dropna().astype(int).mean()\n",
    "print(mean_km)\n",
    "\n",
    "df['kms_driven'] = df['kms_driven'].fillna(mean_km)\n",
    "df['name'] = df['name'].str.split(' ').str.slice(0,3).str.join(' ')\n",
    "\n",
    "df['year'] = pd.to_numeric(df['year'], errors='coerce')\n",
    "\n",
    "trans = ColumnTransformer(transformers = [\n",
    "    ('tnf1',SimpleImputer(strategy='constant',fill_value=mean_km,missing_values='Petrol'),['kms_driven']),\n",
    "    ('tnf2',SimpleImputer(strategy='most_frequent'),['fuel_type']),\n",
    "    ('tnf3',SimpleImputer(strategy='constant',missing_values='Ask For Price',fill_value=mean_p),['Price'])\n",
    "],remainder='passthrough')\n",
    "\n",
    "df = pd.DataFrame(trans.fit_transform(df),columns=['kms_driven','fuel_type','Price','name','company','year'])\n"
   ]
  },
  {
   "cell_type": "code",
   "execution_count": 6,
   "metadata": {},
   "outputs": [],
   "source": [
    "\n",
    "trans1 = ColumnTransformer(transformers = [\n",
    "    ('tnf3',OneHotEncoder(drop='first',sparse_output=True),['fuel_type']),\n",
    "],remainder='passthrough')\n",
    "\n",
    "df = pd.DataFrame(trans1.fit_transform(df),columns=['petrol','diesel','kms_driven','Price','name','company','year'])\n"
   ]
  },
  {
   "cell_type": "code",
   "execution_count": 7,
   "metadata": {},
   "outputs": [
    {
     "data": {
      "text/html": [
       "<div>\n",
       "<style scoped>\n",
       "    .dataframe tbody tr th:only-of-type {\n",
       "        vertical-align: middle;\n",
       "    }\n",
       "\n",
       "    .dataframe tbody tr th {\n",
       "        vertical-align: top;\n",
       "    }\n",
       "\n",
       "    .dataframe thead th {\n",
       "        text-align: right;\n",
       "    }\n",
       "</style>\n",
       "<table border=\"1\" class=\"dataframe\">\n",
       "  <thead>\n",
       "    <tr style=\"text-align: right;\">\n",
       "      <th></th>\n",
       "      <th>petrol</th>\n",
       "      <th>diesel</th>\n",
       "      <th>kms_driven</th>\n",
       "      <th>Price</th>\n",
       "      <th>name</th>\n",
       "      <th>company</th>\n",
       "      <th>year</th>\n",
       "    </tr>\n",
       "  </thead>\n",
       "  <tbody>\n",
       "    <tr>\n",
       "      <th>0</th>\n",
       "      <td>0</td>\n",
       "      <td>1</td>\n",
       "      <td>45000.000000</td>\n",
       "      <td>80000</td>\n",
       "      <td>Hyundai Santro Xing</td>\n",
       "      <td>Hyundai</td>\n",
       "      <td>2009</td>\n",
       "    </tr>\n",
       "    <tr>\n",
       "      <th>1</th>\n",
       "      <td>0</td>\n",
       "      <td>0</td>\n",
       "      <td>40.000000</td>\n",
       "      <td>425000</td>\n",
       "      <td>Mahindra Jeep CL550</td>\n",
       "      <td>Mahindra</td>\n",
       "      <td>2015</td>\n",
       "    </tr>\n",
       "    <tr>\n",
       "      <th>2</th>\n",
       "      <td>0</td>\n",
       "      <td>1</td>\n",
       "      <td>22000.000000</td>\n",
       "      <td>404688</td>\n",
       "      <td>Maruti Suzuki Alto</td>\n",
       "      <td>Maruti</td>\n",
       "      <td>2010</td>\n",
       "    </tr>\n",
       "    <tr>\n",
       "      <th>3</th>\n",
       "      <td>0</td>\n",
       "      <td>1</td>\n",
       "      <td>28000.000000</td>\n",
       "      <td>325000</td>\n",
       "      <td>Hyundai Grand i10</td>\n",
       "      <td>Hyundai</td>\n",
       "      <td>2012</td>\n",
       "    </tr>\n",
       "    <tr>\n",
       "      <th>4</th>\n",
       "      <td>0</td>\n",
       "      <td>0</td>\n",
       "      <td>36000.000000</td>\n",
       "      <td>575000</td>\n",
       "      <td>Ford EcoSport Titanium</td>\n",
       "      <td>Ford</td>\n",
       "      <td>2014</td>\n",
       "    </tr>\n",
       "    <tr>\n",
       "      <th>...</th>\n",
       "      <td>...</td>\n",
       "      <td>...</td>\n",
       "      <td>...</td>\n",
       "      <td>...</td>\n",
       "      <td>...</td>\n",
       "      <td>...</td>\n",
       "      <td>...</td>\n",
       "    </tr>\n",
       "    <tr>\n",
       "      <th>887</th>\n",
       "      <td>0</td>\n",
       "      <td>1</td>\n",
       "      <td>46010.550119</td>\n",
       "      <td>310000</td>\n",
       "      <td>Ta</td>\n",
       "      <td>Tara</td>\n",
       "      <td>2017</td>\n",
       "    </tr>\n",
       "    <tr>\n",
       "      <th>888</th>\n",
       "      <td>0</td>\n",
       "      <td>0</td>\n",
       "      <td>27000.000000</td>\n",
       "      <td>260000</td>\n",
       "      <td>Tata Zest XM</td>\n",
       "      <td>Tata</td>\n",
       "      <td>2016</td>\n",
       "    </tr>\n",
       "    <tr>\n",
       "      <th>889</th>\n",
       "      <td>0</td>\n",
       "      <td>0</td>\n",
       "      <td>40000.000000</td>\n",
       "      <td>390000</td>\n",
       "      <td>Mahindra Quanto C8</td>\n",
       "      <td>Mahindra</td>\n",
       "      <td>2018</td>\n",
       "    </tr>\n",
       "    <tr>\n",
       "      <th>890</th>\n",
       "      <td>0</td>\n",
       "      <td>1</td>\n",
       "      <td>46010.550119</td>\n",
       "      <td>180000</td>\n",
       "      <td>Honda Amaze 1.2</td>\n",
       "      <td>Honda</td>\n",
       "      <td>2015</td>\n",
       "    </tr>\n",
       "    <tr>\n",
       "      <th>891</th>\n",
       "      <td>0</td>\n",
       "      <td>1</td>\n",
       "      <td>46010.550119</td>\n",
       "      <td>160000</td>\n",
       "      <td>Chevrolet Sail 1.2</td>\n",
       "      <td>Chevrolet</td>\n",
       "      <td>2015</td>\n",
       "    </tr>\n",
       "  </tbody>\n",
       "</table>\n",
       "<p>892 rows × 7 columns</p>\n",
       "</div>"
      ],
      "text/plain": [
       "     petrol  diesel    kms_driven   Price                    name    company  \\\n",
       "0         0       1  45000.000000   80000     Hyundai Santro Xing    Hyundai   \n",
       "1         0       0     40.000000  425000     Mahindra Jeep CL550   Mahindra   \n",
       "2         0       1  22000.000000  404688      Maruti Suzuki Alto     Maruti   \n",
       "3         0       1  28000.000000  325000       Hyundai Grand i10    Hyundai   \n",
       "4         0       0  36000.000000  575000  Ford EcoSport Titanium       Ford   \n",
       "..      ...     ...           ...     ...                     ...        ...   \n",
       "887       0       1  46010.550119  310000                      Ta       Tara   \n",
       "888       0       0  27000.000000  260000            Tata Zest XM       Tata   \n",
       "889       0       0  40000.000000  390000      Mahindra Quanto C8   Mahindra   \n",
       "890       0       1  46010.550119  180000         Honda Amaze 1.2      Honda   \n",
       "891       0       1  46010.550119  160000      Chevrolet Sail 1.2  Chevrolet   \n",
       "\n",
       "     year  \n",
       "0    2009  \n",
       "1    2015  \n",
       "2    2010  \n",
       "3    2012  \n",
       "4    2014  \n",
       "..    ...  \n",
       "887  2017  \n",
       "888  2016  \n",
       "889  2018  \n",
       "890  2015  \n",
       "891  2015  \n",
       "\n",
       "[892 rows x 7 columns]"
      ]
     },
     "execution_count": 7,
     "metadata": {},
     "output_type": "execute_result"
    }
   ],
   "source": [
    "\n",
    "df['kms_driven'] = df['kms_driven'].astype(float)\n",
    "df['petrol'] = df['petrol'].astype(int)\n",
    "df['diesel'] = df['diesel'].astype(int)\n",
    "df['Price'] = df['Price'].astype(int)\n",
    "df\n"
   ]
  },
  {
   "cell_type": "code",
   "execution_count": 8,
   "metadata": {},
   "outputs": [],
   "source": [
    "#FUNCTION TRANSFORMER\n",
    "df['year'] = pd.to_numeric(df['year'], errors='coerce')"
   ]
  },
  {
   "cell_type": "code",
   "execution_count": 9,
   "metadata": {},
   "outputs": [
    {
     "data": {
      "text/plain": [
       "dtype('int64')"
      ]
     },
     "execution_count": 9,
     "metadata": {},
     "output_type": "execute_result"
    }
   ],
   "source": [
    "df['year'].dtype"
   ]
  },
  {
   "cell_type": "code",
   "execution_count": 10,
   "metadata": {},
   "outputs": [
    {
     "data": {
      "text/plain": [
       "<Axes: >"
      ]
     },
     "execution_count": 10,
     "metadata": {},
     "output_type": "execute_result"
    },
    {
     "data": {
      "image/png": "[encoded data removed]",
      "text/plain": [
       "<Figure size 640x480 with 1 Axes>"
      ]
     },
     "metadata": {},
     "output_type": "display_data"
    }
   ],
   "source": [
    "from sklearn.preprocessing import StandardScaler\n",
    "ss = StandardScaler()\n",
    "sns.boxplot(ss.fit_transform(df[['kms_driven']]))"
   ]
  },
  {
   "cell_type": "code",
   "execution_count": 11,
   "metadata": {},
   "outputs": [
    {
     "data": {
      "text/plain": [
       "<Axes: ylabel='kms_driven'>"
      ]
     },
     "execution_count": 11,
     "metadata": {},
     "output_type": "execute_result"
    },
    {
     "data": {
      "image/png": "[encoded data removed]",
      "text/plain": [
       "<Figure size 640x480 with 1 Axes>"
      ]
     },
     "metadata": {},
     "output_type": "display_data"
    }
   ],
   "source": [
    "sns.boxplot(df['kms_driven'])"
   ]
  },
  {
   "cell_type": "code",
   "execution_count": 12,
   "metadata": {},
   "outputs": [
    {
     "name": "stdout",
     "output_type": "stream",
     "text": [
      "<class 'pandas.core.frame.DataFrame'>\n",
      "RangeIndex: 892 entries, 0 to 891\n",
      "Data columns (total 7 columns):\n",
      " #   Column      Non-Null Count  Dtype  \n",
      "---  ------      --------------  -----  \n",
      " 0   petrol      892 non-null    int32  \n",
      " 1   diesel      892 non-null    int32  \n",
      " 2   kms_driven  892 non-null    float64\n",
      " 3   Price       892 non-null    int32  \n",
      " 4   name        892 non-null    object \n",
      " 5   company     892 non-null    object \n",
      " 6   year        892 non-null    int64  \n",
      "dtypes: float64(1), int32(3), int64(1), object(2)\n",
      "memory usage: 38.5+ KB\n"
     ]
    }
   ],
   "source": [
    "\n",
    "ft=FunctionTransformer(np.log)\n",
    "t=ColumnTransformer(transformers=[\n",
    "    ('t',ft,['year'])\n",
    "],remainder='passthrough')\n",
    "t.fit_transform(df)\n",
    "# df['year'].plot(kind='kde')\n",
    "df.info()\n",
    "\n",
    "# high = df['year'].mean() + 3*df['year'].std()\n",
    "# low = df['year'].mean() - 3*df['year'].std()\n",
    "\n",
    "# df['year'] = np.where(\n",
    "#     df['year']>high,\n",
    "#     high,\n",
    "#     np.where(\n",
    "#         df['year']<low,\n",
    "#         low,\n",
    "#         df['year']\n",
    "#     )\n",
    "# )\n",
    "\n",
    "# high = df['kms_driven'].mean() + 3*df['kms_driven'].std()\n",
    "# low = df['kms_driven'].mean() - 3*df['kms_driven'].std()\n",
    "\n",
    "# df['kms_driven'] = np.where(\n",
    "#     df['kms_driven']>high,\n",
    "#     high,\n",
    "#     np.where(\n",
    "#         df['kms_driven']<low,\n",
    "#         low,\n",
    "#         df['kms_driven']\n",
    "#     )\n",
    "# )\n"
   ]
  },
  {
   "cell_type": "code",
   "execution_count": 13,
   "metadata": {},
   "outputs": [
    {
     "data": {
      "text/plain": [
       "count       892.000000\n",
       "mean      46010.550119\n",
       "std       33408.767337\n",
       "min           0.000000\n",
       "25%       27000.000000\n",
       "50%       43000.000000\n",
       "75%       55000.000000\n",
       "max      400000.000000\n",
       "Name: kms_driven, dtype: float64"
      ]
     },
     "execution_count": 13,
     "metadata": {},
     "output_type": "execute_result"
    },
    {
     "data": {
      "image/png": "[encoded data removed]",
      "text/plain": [
       "<Figure size 640x480 with 1 Axes>"
      ]
     },
     "metadata": {},
     "output_type": "display_data"
    }
   ],
   "source": [
    "\n",
    "sns.boxplot(df['kms_driven'])\n",
    "# print(high,low)\n",
    "df['kms_driven'].describe()\n"
   ]
  },
  {
   "cell_type": "code",
   "execution_count": 14,
   "metadata": {},
   "outputs": [
    {
     "data": {
      "text/plain": [
       "28000.0"
      ]
     },
     "execution_count": 14,
     "metadata": {},
     "output_type": "execute_result"
    }
   ],
   "source": [
    "q1 = df.kms_driven.quantile(0.25)\n",
    "q2 = df.kms_driven.quantile(0.75)\n",
    "iqr = q2-q1\n",
    "iqr"
   ]
  },
  {
   "cell_type": "code",
   "execution_count": 15,
   "metadata": {},
   "outputs": [
    {
     "data": {
      "text/plain": [
       "892"
      ]
     },
     "execution_count": 15,
     "metadata": {},
     "output_type": "execute_result"
    }
   ],
   "source": [
    "df['kms_driven'].count()"
   ]
  },
  {
   "cell_type": "code",
   "execution_count": 16,
   "metadata": {},
   "outputs": [
    {
     "data": {
      "text/html": [
       "<div>\n",
       "<style scoped>\n",
       "    .dataframe tbody tr th:only-of-type {\n",
       "        vertical-align: middle;\n",
       "    }\n",
       "\n",
       "    .dataframe tbody tr th {\n",
       "        vertical-align: top;\n",
       "    }\n",
       "\n",
       "    .dataframe thead th {\n",
       "        text-align: right;\n",
       "    }\n",
       "</style>\n",
       "<table border=\"1\" class=\"dataframe\">\n",
       "  <thead>\n",
       "    <tr style=\"text-align: right;\">\n",
       "      <th></th>\n",
       "      <th>petrol</th>\n",
       "      <th>diesel</th>\n",
       "      <th>kms_driven</th>\n",
       "      <th>Price</th>\n",
       "      <th>year</th>\n",
       "    </tr>\n",
       "  </thead>\n",
       "  <tbody>\n",
       "    <tr>\n",
       "      <th>count</th>\n",
       "      <td>247.000000</td>\n",
       "      <td>247.000000</td>\n",
       "      <td>247.000000</td>\n",
       "      <td>2.470000e+02</td>\n",
       "      <td>247.000000</td>\n",
       "    </tr>\n",
       "    <tr>\n",
       "      <th>mean</th>\n",
       "      <td>0.008097</td>\n",
       "      <td>0.376518</td>\n",
       "      <td>83755.647773</td>\n",
       "      <td>3.099174e+05</td>\n",
       "      <td>2012.485830</td>\n",
       "    </tr>\n",
       "    <tr>\n",
       "      <th>std</th>\n",
       "      <td>0.089801</td>\n",
       "      <td>0.485496</td>\n",
       "      <td>38268.907816</td>\n",
       "      <td>2.696689e+05</td>\n",
       "      <td>3.781481</td>\n",
       "    </tr>\n",
       "    <tr>\n",
       "      <th>min</th>\n",
       "      <td>0.000000</td>\n",
       "      <td>0.000000</td>\n",
       "      <td>55000.000000</td>\n",
       "      <td>3.000000e+04</td>\n",
       "      <td>2000.000000</td>\n",
       "    </tr>\n",
       "    <tr>\n",
       "      <th>25%</th>\n",
       "      <td>0.000000</td>\n",
       "      <td>0.000000</td>\n",
       "      <td>60000.000000</td>\n",
       "      <td>1.275000e+05</td>\n",
       "      <td>2011.000000</td>\n",
       "    </tr>\n",
       "    <tr>\n",
       "      <th>50%</th>\n",
       "      <td>0.000000</td>\n",
       "      <td>0.000000</td>\n",
       "      <td>70000.000000</td>\n",
       "      <td>2.400000e+05</td>\n",
       "      <td>2013.000000</td>\n",
       "    </tr>\n",
       "    <tr>\n",
       "      <th>75%</th>\n",
       "      <td>0.000000</td>\n",
       "      <td>1.000000</td>\n",
       "      <td>97000.000000</td>\n",
       "      <td>3.850000e+05</td>\n",
       "      <td>2015.000000</td>\n",
       "    </tr>\n",
       "    <tr>\n",
       "      <th>max</th>\n",
       "      <td>1.000000</td>\n",
       "      <td>1.000000</td>\n",
       "      <td>400000.000000</td>\n",
       "      <td>1.525000e+06</td>\n",
       "      <td>2019.000000</td>\n",
       "    </tr>\n",
       "  </tbody>\n",
       "</table>\n",
       "</div>"
      ],
      "text/plain": [
       "           petrol      diesel     kms_driven         Price         year\n",
       "count  247.000000  247.000000     247.000000  2.470000e+02   247.000000\n",
       "mean     0.008097    0.376518   83755.647773  3.099174e+05  2012.485830\n",
       "std      0.089801    0.485496   38268.907816  2.696689e+05     3.781481\n",
       "min      0.000000    0.000000   55000.000000  3.000000e+04  2000.000000\n",
       "25%      0.000000    0.000000   60000.000000  1.275000e+05  2011.000000\n",
       "50%      0.000000    0.000000   70000.000000  2.400000e+05  2013.000000\n",
       "75%      0.000000    1.000000   97000.000000  3.850000e+05  2015.000000\n",
       "max      1.000000    1.000000  400000.000000  1.525000e+06  2019.000000"
      ]
     },
     "execution_count": 16,
     "metadata": {},
     "output_type": "execute_result"
    }
   ],
   "source": [
    "high = q2+1.5*iqr\n",
    "low = q1-1.5*iqr\n",
    "df = df.loc[df['kms_driven']>=q2]\n",
    "df.describe()"
   ]
  },
  {
   "cell_type": "code",
   "execution_count": 17,
   "metadata": {},
   "outputs": [
    {
     "data": {
      "text/plain": [
       "<Axes: ylabel='kms_driven'>"
      ]
     },
     "execution_count": 17,
     "metadata": {},
     "output_type": "execute_result"
    },
    {
     "data": {
      "image/png": "[encoded data removed]",
      "text/plain": [
       "<Figure size 640x480 with 1 Axes>"
      ]
     },
     "metadata": {},
     "output_type": "display_data"
    }
   ],
   "source": [
    "sns.boxplot(df['kms_driven'])"
   ]
  },
  {
   "cell_type": "code",
   "execution_count": 18,
   "metadata": {},
   "outputs": [
    {
     "name": "stdout",
     "output_type": "stream",
     "text": [
      "<class 'pandas.core.frame.DataFrame'>\n",
      "Index: 247 entries, 5 to 886\n",
      "Data columns (total 7 columns):\n",
      " #   Column      Non-Null Count  Dtype  \n",
      "---  ------      --------------  -----  \n",
      " 0   petrol      247 non-null    int32  \n",
      " 1   diesel      247 non-null    int32  \n",
      " 2   kms_driven  247 non-null    float64\n",
      " 3   Price       247 non-null    int32  \n",
      " 4   name        247 non-null    object \n",
      " 5   company     247 non-null    object \n",
      " 6   year        247 non-null    int64  \n",
      "dtypes: float64(1), int32(3), int64(1), object(2)\n",
      "memory usage: 12.5+ KB\n"
     ]
    }
   ],
   "source": [
    "trann = ColumnTransformer(transformers=[\n",
    "    ('t1',OneHotEncoder(drop='first',sparse_output=True),['company','name'])\n",
    "],remainder='passthrough')\n",
    "trann.fit(df.drop(columns=['Price']))\n",
    "df.info()"
   ]
  },
  {
   "cell_type": "code",
   "execution_count": 19,
   "metadata": {},
   "outputs": [
    {
     "name": "stderr",
     "output_type": "stream",
     "text": [
      "c:\\Users\\Hp\\AppData\\Local\\Programs\\Python\\Python310\\lib\\site-packages\\sklearn\\base.py:1152: DataConversionWarning: A column-vector y was passed when a 1d array was expected. Please change the shape of y to (n_samples,), for example using ravel().\n",
      "  return fit_method(estimator, *args, **kwargs)\n",
      "c:\\Users\\Hp\\AppData\\Local\\Programs\\Python\\Python310\\lib\\site-packages\\sklearn\\base.py:1152: DataConversionWarning: A column-vector y was passed when a 1d array was expected. Please change the shape of y to (n_samples,), for example using ravel().\n",
      "  return fit_method(estimator, *args, **kwargs)\n",
      "c:\\Users\\Hp\\AppData\\Local\\Programs\\Python\\Python310\\lib\\site-packages\\sklearn\\base.py:1152: DataConversionWarning: A column-vector y was passed when a 1d array was expected. Please change the shape of y to (n_samples,), for example using ravel().\n",
      "  return fit_method(estimator, *args, **kwargs)\n",
      "c:\\Users\\Hp\\AppData\\Local\\Programs\\Python\\Python310\\lib\\site-packages\\sklearn\\base.py:1152: DataConversionWarning: A column-vector y was passed when a 1d array was expected. Please change the shape of y to (n_samples,), for example using ravel().\n",
      "  return fit_method(estimator, *args, **kwargs)\n",
      "c:\\Users\\Hp\\AppData\\Local\\Programs\\Python\\Python310\\lib\\site-packages\\sklearn\\base.py:1152: DataConversionWarning: A column-vector y was passed when a 1d array was expected. Please change the shape of y to (n_samples,), for example using ravel().\n",
      "  return fit_method(estimator, *args, **kwargs)\n",
      "c:\\Users\\Hp\\AppData\\Local\\Programs\\Python\\Python310\\lib\\site-packages\\sklearn\\base.py:1152: DataConversionWarning: A column-vector y was passed when a 1d array was expected. Please change the shape of y to (n_samples,), for example using ravel().\n",
      "  return fit_method(estimator, *args, **kwargs)\n",
      "c:\\Users\\Hp\\AppData\\Local\\Programs\\Python\\Python310\\lib\\site-packages\\sklearn\\base.py:1152: DataConversionWarning: A column-vector y was passed when a 1d array was expected. Please change the shape of y to (n_samples,), for example using ravel().\n",
      "  return fit_method(estimator, *args, **kwargs)\n",
      "c:\\Users\\Hp\\AppData\\Local\\Programs\\Python\\Python310\\lib\\site-packages\\sklearn\\base.py:1152: DataConversionWarning: A column-vector y was passed when a 1d array was expected. Please change the shape of y to (n_samples,), for example using ravel().\n",
      "  return fit_method(estimator, *args, **kwargs)\n",
      "c:\\Users\\Hp\\AppData\\Local\\Programs\\Python\\Python310\\lib\\site-packages\\sklearn\\base.py:1152: DataConversionWarning: A column-vector y was passed when a 1d array was expected. Please change the shape of y to (n_samples,), for example using ravel().\n",
      "  return fit_method(estimator, *args, **kwargs)\n",
      "c:\\Users\\Hp\\AppData\\Local\\Programs\\Python\\Python310\\lib\\site-packages\\sklearn\\base.py:1152: DataConversionWarning: A column-vector y was passed when a 1d array was expected. Please change the shape of y to (n_samples,), for example using ravel().\n",
      "  return fit_method(estimator, *args, **kwargs)\n"
     ]
    }
   ],
   "source": [
    "# X_train = trann.transform(X_train)\n",
    "# X_test = trann.transform(X_test)\n",
    "from sklearn.linear_model import LinearRegression\n",
    "from sklearn.ensemble import RandomForestRegressor\n",
    "lr=RandomForestRegressor()\n",
    "# lr.fit(X_train,y_train)\n",
    "# y_pred = lr.predict(X_test)\n",
    "# from sklearn.metrics import r2_score\n",
    "# r2_score(y_pred,y_test)\n",
    "\n",
    "\n",
    "X=df.drop(columns=['Price'])\n",
    "y=pd.DataFrame(df['Price'],columns=['Price'])\n",
    "y\n",
    "X = trann.transform(X)\n",
    "from sklearn.model_selection import cross_val_score\n",
    "scores = cross_val_score(lr,X,y,cv=10,scoring='r2')\n"
   ]
  },
  {
   "cell_type": "code",
   "execution_count": 20,
   "metadata": {},
   "outputs": [
    {
     "data": {
      "text/plain": [
       "0.32631406502271654"
      ]
     },
     "execution_count": 20,
     "metadata": {},
     "output_type": "execute_result"
    }
   ],
   "source": [
    "scores.mean()"
   ]
  },
  {
   "cell_type": "code",
   "execution_count": 21,
   "metadata": {},
   "outputs": [
    {
     "data": {
      "text/plain": [
       "<Axes: ylabel='Density'>"
      ]
     },
     "execution_count": 21,
     "metadata": {},
     "output_type": "execute_result"
    },
    {
     "data": {
      "image/png": "[encoded data removed]",
      "text/plain": [
       "<Figure size 640x480 with 1 Axes>"
      ]
     },
     "metadata": {},
     "output_type": "display_data"
    }
   ],
   "source": [
    "# sns.boxplot(df['kms_driven'])\n",
    "df['kms_driven'].plot(kind='kde')"
   ]
  },
  {
   "cell_type": "code",
   "execution_count": 22,
   "metadata": {},
   "outputs": [],
   "source": [
    "# from sklearn.preprocessing import OneHotEncoder\n",
    "# ohe=OneHotEncoder(drop='first',dtype=np.int32)\n",
    "# X_train_new = ohe.fit_transform(X_train[['fuel_type']]).toarray()\n",
    "# X_test_new = ohe.transform(X_test[['fuel_type']]).toarray()\n",
    "# X_train_new"
   ]
  }
 ],
 "metadata": {
  "kernelspec": {
   "display_name": "Python 3.10.7 64-bit",
   "language": "python",
   "name": "python3"
  },
  "language_info": {
   "codemirror_mode": {
    "name": "ipython",
    "version": 3
   },
   "file_extension": ".py",
   "mimetype": "text/x-python",
   "name": "python",
   "nbconvert_exporter": "python",
   "pygments_lexer": "ipython3",
   "version": "3.10.7"
  },
  "orig_nbformat": 4,
  "vscode": {
   "interpreter": {
    "hash": "027efd7095115064582efab50921964d678032cf36f1ec215c675cf4ffc5e6b9"
   }
  }
 },
 "nbformat": 4,
 "nbformat_minor": 2
}
